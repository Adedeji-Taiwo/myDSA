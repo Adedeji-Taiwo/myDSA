{
 "cells": [
  {
   "cell_type": "markdown",
   "id": "2d8e9063",
   "metadata": {},
   "source": [
    "### Create a Node"
   ]
  },
  {
   "cell_type": "markdown",
   "id": "e4959f56",
   "metadata": {},
   "source": [
    "#### Explanation\n",
    "- __init__ is a special method that runs when you create a new node.\n",
    "- data is the value you want to store.\n",
    "- next is set to None because we haven’t linked it to another node yet."
   ]
  },
  {
   "cell_type": "code",
   "execution_count": null,
   "id": "50813488",
   "metadata": {},
   "outputs": [],
   "source": [
    "class Node:\n",
    "    def __init__(self, data):\n",
    "        self.data = data\n",
    "        self.next = None\n",
    "\n",
    "# Create Nodes\n",
    "node1 = Node(5)\n",
    "node2 = Node(7)\n",
    "node3 = Node(11)\n",
    "\n",
    "# Link Nodes\n",
    "node1.next = node2\n",
    "node2.next = node3\n",
    "\n",
    "# Print Values\n",
    "current = node1\n",
    "while current:\n",
    "    print(current.data, end=\" -> \")\n",
    "    current = current.next\n",
    "print(\"None\")"
   ]
  }
 ],
 "metadata": {
  "kernelspec": {
   "display_name": "base",
   "language": "python",
   "name": "python3"
  },
  "language_info": {
   "name": "python",
   "version": "3.12.3"
  }
 },
 "nbformat": 4,
 "nbformat_minor": 5
}
