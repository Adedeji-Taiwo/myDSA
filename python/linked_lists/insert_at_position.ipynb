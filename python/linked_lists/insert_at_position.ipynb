{
 "cells": [
  {
   "cell_type": "markdown",
   "id": "02d4eb17",
   "metadata": {},
   "source": [
    "### Day 5: Insert at a Specific Position\n",
    "\n",
    "To do:\n",
    "- How to insert a node anywhere in the list (not just beginning or end)\n",
    "- How to traverse the list to find the right spot\n",
    "- How to update pointers to insert the new node"
   ]
  },
  {
   "cell_type": "code",
   "execution_count": null,
   "id": "6b7d991c",
   "metadata": {},
   "outputs": [
    {
     "ename": "IndentationError",
     "evalue": "unindent does not match any outer indentation level (<string>, line 50)",
     "output_type": "error",
     "traceback": [
      "\u001b[1;36m  File \u001b[1;32m<string>:50\u001b[1;36m\u001b[0m\n\u001b[1;33m    current = current.next\u001b[0m\n\u001b[1;37m                          ^\u001b[0m\n\u001b[1;31mIndentationError\u001b[0m\u001b[1;31m:\u001b[0m unindent does not match any outer indentation level\n"
     ]
    }
   ],
   "source": [
    "class Node:\n",
    "    def __init__(self, data):\n",
    "        self.data = data\n",
    "        self.next = None\n",
    "\n",
    "class LinkedList:\n",
    "    def __init__(self):\n",
    "        self.head = None # Start of list (empty)\n",
    "\n",
    "    def display(self):\n",
    "        current = self.head\n",
    "        while current:\n",
    "            print(current.data, end=\" -> \")\n",
    "            current = current.next\n",
    "        print(\"None\")\n",
    "\n",
    "    def insert_at_beginning(self, data):\n",
    "        new_node = Node(data)\n",
    "        new_node.next = self.head\n",
    "        self.head = new_node\n",
    "      \n",
    "    def insert_at_end(self, data):\n",
    "        new_node = Node(data)\n",
    "        current = self.head\n",
    "        if current is None:\n",
    "            self.head = new_node\n",
    "        else:\n",
    "            while current.next is not None:\n",
    "                current = current.next\n",
    "            current.next = new_node\n",
    "    \n",
    "    def insert_at_position(self, position, data):\n",
    "        \n",
    "        new_node = Node(data)\n",
    "        # case 1: Insert at the beginning\n",
    "        if position == 0:\n",
    "            new_node.next = self.head\n",
    "            self.head = new_node\n",
    "        return\n",
    "\n",
    "        # Step 1: Start at the head\n",
    "\n",
    "        current = self.head\n",
    "\n",
    "        # Step 2: Walk to the node just before the target position\n",
    "\n",
    "        for _ in range(position - 1):\n",
    "             if not current:\n",
    "                print(f'Out of range')\n",
    "                return\n",
    "            current = current.next\n",
    "     \n",
    "         # Step 3: Insert the new node\n",
    "\n",
    "        new_node.next = current.next\n",
    "        current.next = new_node\n",
    "\n",
    "# Manually create nodes\n",
    "node1 = Node(5)\n",
    "node2 = Node(8)\n",
    "node3 = Node(10)\n",
    "\n",
    "# Link Nodes\n",
    "node1.next = node2\n",
    "node2.next = node3\n",
    "\n",
    "a = LinkedList()\n",
    "a.head = node1\n",
    "a.insert_at_beginning(3)\n",
    "a.insert_at_end(12)\n",
    "a.insert_at_position(1, 4)\n",
    "a.display()\n"
   ]
  }
 ],
 "metadata": {
  "kernelspec": {
   "display_name": "base",
   "language": "python",
   "name": "python3"
  },
  "language_info": {
   "codemirror_mode": {
    "name": "ipython",
    "version": 3
   },
   "file_extension": ".py",
   "mimetype": "text/x-python",
   "name": "python",
   "nbconvert_exporter": "python",
   "pygments_lexer": "ipython3",
   "version": "3.12.3"
  }
 },
 "nbformat": 4,
 "nbformat_minor": 5
}
