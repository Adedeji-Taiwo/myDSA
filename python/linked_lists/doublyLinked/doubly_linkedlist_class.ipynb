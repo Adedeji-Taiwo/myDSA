{
 "cells": [
  {
   "cell_type": "markdown",
   "id": "25f4c071",
   "metadata": {},
   "source": [
    "### Day 3: Creating a DoublyLinkedList Class\n",
    "\n",
    "What to Learn:\n",
    "\n",
    "- How to manage the list using a head and tail\n",
    "- How to display the list from start to end\n",
    "- How to prepare for future operations like insert, delete, and reverse"
   ]
  },
  {
   "cell_type": "code",
   "execution_count": 1,
   "id": "e9019d43",
   "metadata": {},
   "outputs": [
    {
     "name": "stdout",
     "output_type": "stream",
     "text": [
      "🔁 Doubly Linked List (forward): 5 -> 8 -> 10 -> None\n",
      "🔁 Doubly Linked List (backward): 10 <- 8 <- 5 <- None\n"
     ]
    }
   ],
   "source": [
    "class Node:\n",
    "    def __init__(self, data):\n",
    "        self.data = data\n",
    "        self.next = None\n",
    "        self.prev = None\n",
    "\n",
    "class DoublyLinkedList:\n",
    "    def __init__(self):\n",
    "        self.head = None\n",
    "        self.tail = None\n",
    "    \n",
    "    def display_forward(self):\n",
    "        current = self.head\n",
    "        print(\"🔁 Doubly Linked List (forward):\", end=\" \")\n",
    "        while current:\n",
    "            print(f'{current.data}', end=\" -> \")\n",
    "            current = current.next\n",
    "        print(\"None\")\n",
    "\n",
    "    def display_backward(self):\n",
    "        current = self.tail\n",
    "        print(\"🔁 Doubly Linked List (backward):\", end=\" \")\n",
    "        while current:\n",
    "            print(f'{current.data}', end=\" <- \")\n",
    "            current = current.prev\n",
    "        print(\"None\")\n",
    "\n",
    "\n",
    "node1 = Node(5)\n",
    "node2 = Node(8)\n",
    "node3 = Node(10)\n",
    "\n",
    "node1.next = node2\n",
    "node2.next = node3\n",
    "\n",
    "node2.prev = node1\n",
    "node3.prev = node2\n",
    "\n",
    "a = DoublyLinkedList()\n",
    "# Set head and tail\n",
    "a.head = node1\n",
    "a.tail = node3\n",
    "\n",
    "a.display_forward()\n",
    "a.display_backward()"
   ]
  }
 ],
 "metadata": {
  "kernelspec": {
   "display_name": "base",
   "language": "python",
   "name": "python3"
  },
  "language_info": {
   "codemirror_mode": {
    "name": "ipython",
    "version": 3
   },
   "file_extension": ".py",
   "mimetype": "text/x-python",
   "name": "python",
   "nbconvert_exporter": "python",
   "pygments_lexer": "ipython3",
   "version": "3.12.3"
  }
 },
 "nbformat": 4,
 "nbformat_minor": 5
}
