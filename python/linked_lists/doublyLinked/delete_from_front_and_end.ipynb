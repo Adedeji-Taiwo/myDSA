{
 "cells": [
  {
   "cell_type": "markdown",
   "id": "0d1a00b0",
   "metadata": {},
   "source": [
    "#### Day 6: Delete from Beginning and End\n",
    "What to Learn\n",
    "\n",
    "- How to remove the first node (head) of a linked list.\n",
    "- How to remove the last node (tail) of a linked list.\n",
    "- How to update pointers correctly after deletion._"
   ]
  },
  {
   "cell_type": "code",
   "execution_count": null,
   "id": "7cbb2466",
   "metadata": {},
   "outputs": [
    {
     "name": "stdout",
     "output_type": "stream",
     "text": [
      "🔁 Doubly Linked List (forward): A -> B -> None\n"
     ]
    }
   ],
   "source": [
    "class Node:\n",
    "    def __init__(self, data):\n",
    "        self.data = data\n",
    "        self.next = None\n",
    "        self.prev = None\n",
    "\n",
    "class DoublyLinkedList:\n",
    "    def __init__(self):\n",
    "        self.head = None\n",
    "        self.tail = None\n",
    "\n",
    "    def display_forward(self):\n",
    "        current = self.head\n",
    "        print(\"🔁 Doubly Linked List (forward):\", end=\" \")\n",
    "        while current:\n",
    "            print(f'{current.data}', end=\" -> \")\n",
    "            current = current.next\n",
    "        print(\"None\")\n",
    "\n",
    "    def display_backward(self):\n",
    "        current = self.tail\n",
    "        print(\"🔁 Doubly Linked List (backward):\", end=\" \")\n",
    "        while current:\n",
    "            print(f'{current.data}', end=\" <-\")\n",
    "            current = current.prev\n",
    "        print(\"None\")\n",
    "\n",
    "\n",
    "    def insert_at_position(self, value, position):\n",
    "        new_node = Node(value)\n",
    "\n",
    "        if self.head is None:\n",
    "            self.head = self.tail = new_node\n",
    "            return\n",
    "\n",
    "        if position == 0:\n",
    "            new_node.next = self.head\n",
    "            self.head.prev = new_node\n",
    "            new_node = self.head\n",
    "            return\n",
    "        \n",
    "        current = self.head\n",
    "        for _ in range(position - 1):\n",
    "            if current is None or current.next is None:\n",
    "                print(f'Position out of bounds')\n",
    "                return\n",
    "            current = current.next\n",
    "            \n",
    "        next_node = current.next\n",
    "        current.next = new_node\n",
    "        new_node.prev = current\n",
    "        new_node.next = next_node\n",
    "        \n",
    "\n",
    "        if next_node is not None:\n",
    "            next_node.prev = new_node\n",
    "        else:\n",
    "            self.tail = new_node\n",
    "\n",
    "    \n",
    "a = DoublyLinkedList()\n",
    "a.insert_at_position(\"A\", 0)\n",
    "a.insert_at_position(\"B\", 1)\n",
    "a.display_forward()\n",
    "            "
   ]
  }
 ],
 "metadata": {
  "kernelspec": {
   "display_name": "base",
   "language": "python",
   "name": "python3"
  },
  "language_info": {
   "codemirror_mode": {
    "name": "ipython",
    "version": 3
   },
   "file_extension": ".py",
   "mimetype": "text/x-python",
   "name": "python",
   "nbconvert_exporter": "python",
   "pygments_lexer": "ipython3",
   "version": "3.12.3"
  }
 },
 "nbformat": 4,
 "nbformat_minor": 5
}
