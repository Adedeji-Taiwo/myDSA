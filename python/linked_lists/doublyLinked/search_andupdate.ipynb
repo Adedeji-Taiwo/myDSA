{
 "cells": [
  {
   "cell_type": "markdown",
   "id": "00415c03",
   "metadata": {},
   "source": [
    "### Day 8: Search and Update\n",
    "\n",
    "What to learn\n",
    "\n",
    "- How to search for a node by its value.\n",
    "- How to update the value of a node once found.\n",
    "- How to handle cases where the value is not found."
   ]
  },
  {
   "cell_type": "code",
   "execution_count": 2,
   "id": "40a45a2c",
   "metadata": {},
   "outputs": [
    {
     "name": "stdout",
     "output_type": "stream",
     "text": [
      "$B changed successfully to Z\n",
      "A -> Z -> C -> None\n"
     ]
    }
   ],
   "source": [
    "class Node:\n",
    "    def __init__(self, data):\n",
    "        self.data = data\n",
    "        self.next = None\n",
    "        self.prev = None\n",
    "\n",
    "class DoublyLinkedList:\n",
    "    def __init__(self):\n",
    "        self.head = self.tail = None\n",
    "\n",
    "    def display(self):\n",
    "        current = self.head\n",
    "        while current:\n",
    "            print(f'{current.data}', end=\" -> \")\n",
    "            current = current.next\n",
    "        print(\"None\")\n",
    "\n",
    "\n",
    "    def insert_at_end(self, value):\n",
    "        new_node = Node(value)\n",
    "\n",
    "        if self.head is None:\n",
    "            self.head = self.tail = new_node\n",
    "            return    \n",
    "\n",
    "        self.tail.next = new_node\n",
    "        new_node.prev = self.tail\n",
    "        self.tail = new_node\n",
    "\n",
    "\n",
    "\n",
    "    def search_and_update(self, old_value, new_value):\n",
    "        if self.head is None:\n",
    "            print(f'Empty Array')\n",
    "            return\n",
    "\n",
    "        current = self.head\n",
    "        while current:\n",
    "            if current.data == old_value:\n",
    "                current.data = new_value\n",
    "                print(f'${old_value} changed successfully to {new_value}')\n",
    "                return\n",
    "            current = current.next\n",
    "        \n",
    "        print(f\"Value not found\")\n",
    "\n",
    "\n",
    "\n",
    "a = DoublyLinkedList()\n",
    "a.insert_at_end(\"A\")\n",
    "a.insert_at_end(\"B\")\n",
    "a.insert_at_end(\"C\")\n",
    "a.search_and_update(\"B\", \"Z\")\n",
    "a.display()\n",
    "    "
   ]
  }
 ],
 "metadata": {
  "kernelspec": {
   "display_name": "base",
   "language": "python",
   "name": "python3"
  },
  "language_info": {
   "codemirror_mode": {
    "name": "ipython",
    "version": 3
   },
   "file_extension": ".py",
   "mimetype": "text/x-python",
   "name": "python",
   "nbconvert_exporter": "python",
   "pygments_lexer": "ipython3",
   "version": "3.12.3"
  }
 },
 "nbformat": 4,
 "nbformat_minor": 5
}
