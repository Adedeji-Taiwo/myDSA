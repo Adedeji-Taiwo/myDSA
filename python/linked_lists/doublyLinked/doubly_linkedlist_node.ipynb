{
 "cells": [
  {
   "cell_type": "markdown",
   "id": "4758c86b",
   "metadata": {},
   "source": [
    "###  Building a Doubly Linked List Node"
   ]
  },
  {
   "cell_type": "code",
   "execution_count": 2,
   "id": "f0e58114",
   "metadata": {},
   "outputs": [
    {
     "name": "stdout",
     "output_type": "stream",
     "text": [
      "A -> B -> C -> None\n",
      "C <- B <- A <- None\n"
     ]
    }
   ],
   "source": [
    "class Node:\n",
    "    def __init__(self, data):\n",
    "        self.data = data\n",
    "        self.next = None\n",
    "        self.prev = None\n",
    "\n",
    "# Create Nones\n",
    "node1 = Node(\"A\")\n",
    "node2 = Node(\"B\")\n",
    "node3 = Node(\"C\")\n",
    "\n",
    "# Link them forward\n",
    "node1.next = node2\n",
    "node2.next = node3\n",
    "\n",
    "# Link backward\n",
    "node2.prev = node1\n",
    "node3.prev = node2\n",
    "\n",
    "# Print forward\n",
    "current = node1\n",
    "while current:\n",
    "    print(f'{current.data}', end=\" -> \")\n",
    "    current = current.next\n",
    "print(\"None\")\n",
    "\n",
    "\n",
    "# print backward\n",
    "current = node3\n",
    "while current:\n",
    "    print(f'{current.data}', end=\" <- \")\n",
    "    current = current.prev\n",
    "print(\"None\")"
   ]
  }
 ],
 "metadata": {
  "kernelspec": {
   "display_name": "base",
   "language": "python",
   "name": "python3"
  },
  "language_info": {
   "codemirror_mode": {
    "name": "ipython",
    "version": 3
   },
   "file_extension": ".py",
   "mimetype": "text/x-python",
   "name": "python",
   "nbconvert_exporter": "python",
   "pygments_lexer": "ipython3",
   "version": "3.12.3"
  }
 },
 "nbformat": 4,
 "nbformat_minor": 5
}
