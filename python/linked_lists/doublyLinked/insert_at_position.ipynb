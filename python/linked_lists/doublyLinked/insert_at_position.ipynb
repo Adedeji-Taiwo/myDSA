{
 "cells": [
  {
   "cell_type": "markdown",
   "id": "df9da57f",
   "metadata": {},
   "source": [
    "#### Day 5: Inserting at a Specific Position\n",
    "What to Learn:\n",
    "\n",
    "- How to insert a node at a given index\n",
    "- How to update both prev and next pointers\n",
    "- How to handle edge cases (empty list, position out of bounds)"
   ]
  },
  {
   "cell_type": "code",
   "execution_count": null,
   "id": "adf0f749",
   "metadata": {
    "vscode": {
     "languageId": "plaintext"
    }
   },
   "outputs": [],
   "source": []
  }
 ],
 "metadata": {
  "language_info": {
   "name": "python"
  }
 },
 "nbformat": 4,
 "nbformat_minor": 5
}
