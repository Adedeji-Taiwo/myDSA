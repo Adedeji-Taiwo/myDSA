{
 "cells": [
  {
   "cell_type": "markdown",
   "id": "27d33b2e",
   "metadata": {},
   "source": [
    "### Day 4: Inserting Nodes at the Beginning and End \n",
    "\n",
    "What to Learn:\n",
    "How to insert a node at the beginning of the list\n",
    "How to insert a node at the end of the list\n",
    "How to update both prev and next pointers correctly"
   ]
  },
  {
   "cell_type": "code",
   "execution_count": null,
   "id": "a8be1f19",
   "metadata": {},
   "outputs": [
    {
     "name": "stdout",
     "output_type": "stream",
     "text": [
      "🔁 Doubly Linked List (forward): A -> None\n"
     ]
    }
   ],
   "source": [
    "class Node:\n",
    "    def __init__(self, data):\n",
    "        self.data = data\n",
    "        self.next = None\n",
    "        self.prev = None\n",
    "\n",
    "class DoublyLinkedList:\n",
    "    def __init__(self):\n",
    "        self.head = None\n",
    "        self.tail = None\n",
    "\n",
    "    def display_forward(self):\n",
    "        current = self.head\n",
    "        print(f'🔁 Doubly Linked List (forward):', end=\" \")\n",
    "        while current:\n",
    "            print(f'{current.data}', end=\" -> \")\n",
    "            current = current.next\n",
    "        print(\"None\")\n",
    "\n",
    "    def insert_at_beginning(self, data):\n",
    "        new_node = Node(data)\n",
    "        if self.head is None:\n",
    "            self.head = new_node\n",
    "            self.tail = new_node\n",
    "        else:\n",
    "            new_node.next = self.head\n",
    "            self.head.prev = new_Node\n",
    "            self.head = new_node\n",
    "\n",
    "\n",
    "a = DoublyLinkedList()\n",
    "a.insert_at_beginning(\"A\")\n",
    "a.insert_at_beginning(\"B\")\n",
    "a.display_forward()\n",
    "\n"
   ]
  }
 ],
 "metadata": {
  "kernelspec": {
   "display_name": "base",
   "language": "python",
   "name": "python3"
  },
  "language_info": {
   "codemirror_mode": {
    "name": "ipython",
    "version": 3
   },
   "file_extension": ".py",
   "mimetype": "text/x-python",
   "name": "python",
   "nbconvert_exporter": "python",
   "pygments_lexer": "ipython3",
   "version": "3.12.3"
  }
 },
 "nbformat": 4,
 "nbformat_minor": 5
}
