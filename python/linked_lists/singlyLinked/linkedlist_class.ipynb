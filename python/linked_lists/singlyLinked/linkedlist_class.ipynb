{
 "cells": [
  {
   "cell_type": "markdown",
   "id": "011433ec",
   "metadata": {},
   "source": [
    "### Creating a LinkedList Class\n",
    "\n",
    "#### Why Do We Need a LinkedList Class?\n",
    "\n",
    "A LinkedList class helps us:\n",
    "\n",
    "- Keep track of the head (first node)\n",
    "- Add methods to insert, delete, search, and more\n",
    "- Make the list easier to manage"
   ]
  },
  {
   "cell_type": "code",
   "execution_count": null,
   "id": "a77bd392",
   "metadata": {},
   "outputs": [
    {
     "name": "stdout",
     "output_type": "stream",
     "text": [
      "5 -> 8 -> 10 -> None\n"
     ]
    }
   ],
   "source": [
    "class Node:\n",
    "    def __init__(self, data):\n",
    "        self.data = data\n",
    "        self.next = None\n",
    "\n",
    "class LinkedList:\n",
    "    def __init__(self):\n",
    "        self.head = None # Start of list (empty)\n",
    "\n",
    "    def display(self):\n",
    "        current = self.head\n",
    "        while current:\n",
    "            print(current.data, end=\" -> \")\n",
    "            current = current.next\n",
    "        print(\"None\")\n",
    "\n",
    "# Manually create nodes\n",
    "node1 = Node(5)\n",
    "node2 = Node(8)\n",
    "node3 = Node(10)\n",
    "\n",
    "# Link Nodes\n",
    "node1.next = node2\n",
    "node2.next = node3\n",
    "\n",
    "a = LinkedList()\n",
    "a.head = node1\n",
    "a.display()\n",
    "\n",
    "\n",
    "\n"
   ]
  }
 ],
 "metadata": {
  "kernelspec": {
   "display_name": "base",
   "language": "python",
   "name": "python3"
  },
  "language_info": {
   "codemirror_mode": {
    "name": "ipython",
    "version": 3
   },
   "file_extension": ".py",
   "mimetype": "text/x-python",
   "name": "python",
   "nbconvert_exporter": "python",
   "pygments_lexer": "ipython3",
   "version": "3.12.3"
  }
 },
 "nbformat": 4,
 "nbformat_minor": 5
}
