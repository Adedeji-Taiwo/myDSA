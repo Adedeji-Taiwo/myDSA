{
 "cells": [
  {
   "cell_type": "code",
   "execution_count": null,
   "id": "9a57fdd2",
   "metadata": {},
   "outputs": [
    {
     "name": "stdout",
     "output_type": "stream",
     "text": [
      "3->5->6->7->10->None\n"
     ]
    }
   ],
   "source": [
    "class Node:\n",
    "   def __init__(self, data):\n",
    "    self.data = data\n",
    "    self.next = None\n",
    "\n",
    "class SortedLinkedList:\n",
    "    def __init__(self):\n",
    "        self.head = None\n",
    "        \n",
    "    def display(self):\n",
    "        current = self.head\n",
    "        while current:\n",
    "            print(f'{current.data}', end=\" -> \")\n",
    "            current = current.next\n",
    "        print(\"None\")\n",
    "\n",
    "    def insert(self, new_value):\n",
    "        new_node = Node(new_value)\n",
    "\n",
    "        if self.head is None or new_value < self.head.data:  #insert at beginning\n",
    "            new_node.next = self.head\n",
    "            self.head = new_node\n",
    "            return\n",
    "      \n",
    "        current = self.head\n",
    "        while current.next and current.next.data < new_value:\n",
    "                current = current.next\n",
    "\n",
    "        new_node.next = current.next\n",
    "        current.next = new_node\n",
    "        # current -> new_node -> current.next\n",
    "\n",
    "\n",
    "a = SortedLinkedList()\n",
    "a.insert(5)\n",
    "a.insert(7)\n",
    "a.insert(10)\n",
    "a.insert(6)\n",
    "a.insert(3)\n",
    "a.display()\n",
    "\n"
   ]
  }
 ],
 "metadata": {
  "kernelspec": {
   "display_name": "base",
   "language": "python",
   "name": "python3"
  },
  "language_info": {
   "codemirror_mode": {
    "name": "ipython",
    "version": 3
   },
   "file_extension": ".py",
   "mimetype": "text/x-python",
   "name": "python",
   "nbconvert_exporter": "python",
   "pygments_lexer": "ipython3",
   "version": "3.12.3"
  }
 },
 "nbformat": 4,
 "nbformat_minor": 5
}
